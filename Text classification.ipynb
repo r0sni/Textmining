{
 "cells": [
  {
   "cell_type": "code",
   "execution_count": 1,
   "id": "80e8cbbd",
   "metadata": {},
   "outputs": [],
   "source": [
    "import pandas as pd\n",
    "import re\n",
    "import numpy as np\n",
    "import emoji\n",
    "import contractions\n",
    "import unidecode\n",
    "from tqdm import tqdm"
   ]
  },
  {
   "cell_type": "code",
   "execution_count": 2,
   "id": "33f92d6e",
   "metadata": {},
   "outputs": [
    {
     "name": "stderr",
     "output_type": "stream",
     "text": [
      "/var/folders/2k/fhkt65ls68nbd5xt0lj3sbww0000gn/T/ipykernel_6221/1478134738.py:1: DtypeWarning: Columns (11) have mixed types. Specify dtype option on import or set low_memory=False.\n",
      "  data = pd.read_csv('cleaned_data_for_classification.csv')\n"
     ]
    }
   ],
   "source": [
    "data = pd.read_csv('cleaned_data_for_classification.csv')"
   ]
  },
  {
   "cell_type": "code",
   "execution_count": 3,
   "id": "512a82ee",
   "metadata": {},
   "outputs": [
    {
     "data": {
      "text/plain": [
       "368413"
      ]
     },
     "execution_count": 3,
     "metadata": {},
     "output_type": "execute_result"
    }
   ],
   "source": [
    "len(data)"
   ]
  },
  {
   "cell_type": "code",
   "execution_count": 4,
   "id": "bd539e85",
   "metadata": {},
   "outputs": [
    {
     "data": {
      "text/plain": [
       "delivery    326248\n",
       "curbside     42162\n",
       "Name: channel, dtype: int64"
      ]
     },
     "execution_count": 4,
     "metadata": {},
     "output_type": "execute_result"
    }
   ],
   "source": [
    "data['channel'].value_counts()"
   ]
  },
  {
   "cell_type": "code",
   "execution_count": 5,
   "id": "eebac29f",
   "metadata": {},
   "outputs": [
    {
     "data": {
      "text/plain": [
       "Index(['author id', 'created_at', 'geo', 'id', 'lang', 'like_count',\n",
       "       'quote_count', 'reply_count', 'retweet_count', 'source', 'tweet',\n",
       "       'Category', 'channel', 'new_tweet', 'Year', 'Month', 'Day'],\n",
       "      dtype='object')"
      ]
     },
     "execution_count": 5,
     "metadata": {},
     "output_type": "execute_result"
    }
   ],
   "source": [
    "data.columns"
   ]
  },
  {
   "cell_type": "code",
   "execution_count": 6,
   "id": "bfb6ddae",
   "metadata": {},
   "outputs": [
    {
     "data": {
      "text/plain": [
       "Consumer         8377\n",
       "Advertisement    8092\n",
       "Name: Category, dtype: int64"
      ]
     },
     "execution_count": 6,
     "metadata": {},
     "output_type": "execute_result"
    }
   ],
   "source": [
    "data['Category'].value_counts()"
   ]
  },
  {
   "cell_type": "code",
   "execution_count": 7,
   "id": "09bf7217",
   "metadata": {},
   "outputs": [],
   "source": [
    "data['Category'] = data['Category'].map({'Consumer':1, 'Advertisement':0})"
   ]
  },
  {
   "cell_type": "markdown",
   "id": "c056611c",
   "metadata": {},
   "source": [
    "# Removing tweets with less than 5 words"
   ]
  },
  {
   "cell_type": "code",
   "execution_count": 16,
   "id": "7beec7c9",
   "metadata": {},
   "outputs": [
    {
     "data": {
      "text/plain": [
       "1.0    8377\n",
       "0.0    8092\n",
       "Name: Category, dtype: int64"
      ]
     },
     "execution_count": 16,
     "metadata": {},
     "output_type": "execute_result"
    }
   ],
   "source": [
    "data['Category'].value_counts()"
   ]
  },
  {
   "cell_type": "code",
   "execution_count": 17,
   "id": "f0dc5b19",
   "metadata": {},
   "outputs": [
    {
     "name": "stderr",
     "output_type": "stream",
     "text": [
      "100%|█████████████████████████████████| 368413/368413 [04:26<00:00, 1384.14it/s]\n"
     ]
    }
   ],
   "source": [
    "#Number of tweets with less than 4 words\n",
    "count = 0\n",
    "for i in tqdm(range(len(data))):\n",
    "    if len(str(data['tweet'][i]).split(' ')) <5:\n",
    "        data = data.drop(i)\n",
    "        count += 1\n",
    "    "
   ]
  },
  {
   "cell_type": "code",
   "execution_count": 18,
   "id": "6865bb6d",
   "metadata": {},
   "outputs": [
    {
     "data": {
      "text/plain": [
       "6770"
      ]
     },
     "execution_count": 18,
     "metadata": {},
     "output_type": "execute_result"
    }
   ],
   "source": [
    "count"
   ]
  },
  {
   "cell_type": "code",
   "execution_count": 19,
   "id": "22ad7f15",
   "metadata": {},
   "outputs": [
    {
     "data": {
      "text/plain": [
       "361643"
      ]
     },
     "execution_count": 19,
     "metadata": {},
     "output_type": "execute_result"
    }
   ],
   "source": [
    "len(data)"
   ]
  },
  {
   "cell_type": "code",
   "execution_count": 20,
   "id": "ae24395a",
   "metadata": {},
   "outputs": [
    {
     "data": {
      "text/plain": [
       "1.0    8237\n",
       "0.0    8034\n",
       "Name: Category, dtype: int64"
      ]
     },
     "execution_count": 20,
     "metadata": {},
     "output_type": "execute_result"
    }
   ],
   "source": [
    "data['Category'].value_counts()"
   ]
  },
  {
   "cell_type": "code",
   "execution_count": 21,
   "id": "1a2fc94a",
   "metadata": {},
   "outputs": [
    {
     "data": {
      "text/plain": [
       "delivery    319643\n",
       "curbside     41998\n",
       "Name: channel, dtype: int64"
      ]
     },
     "execution_count": 21,
     "metadata": {},
     "output_type": "execute_result"
    }
   ],
   "source": [
    "data['channel'].value_counts()"
   ]
  },
  {
   "cell_type": "markdown",
   "id": "b9e8a24c",
   "metadata": {},
   "source": [
    "# Classifying data"
   ]
  },
  {
   "cell_type": "code",
   "execution_count": 25,
   "id": "a0655c3b",
   "metadata": {},
   "outputs": [],
   "source": [
    "from sklearn.model_selection import train_test_split\n",
    "from sklearn.feature_extraction.text import TfidfVectorizer\n",
    "from sklearn.svm import LinearSVC \n",
    "from sklearn.metrics import accuracy_score, classification_report"
   ]
  },
  {
   "cell_type": "code",
   "execution_count": 26,
   "id": "6f8ab29b",
   "metadata": {},
   "outputs": [
    {
     "data": {
      "text/plain": [
       "Index(['author id', 'created_at', 'geo', 'id', 'lang', 'like_count',\n",
       "       'quote_count', 'reply_count', 'retweet_count', 'source', 'tweet',\n",
       "       'Category', 'channel', 'new_tweet', 'Year', 'Month', 'Day'],\n",
       "      dtype='object')"
      ]
     },
     "execution_count": 26,
     "metadata": {},
     "output_type": "execute_result"
    }
   ],
   "source": [
    "data.columns"
   ]
  },
  {
   "cell_type": "code",
   "execution_count": 27,
   "id": "49cf87ae",
   "metadata": {},
   "outputs": [
    {
     "data": {
      "text/plain": [
       "0         @jhineline meanwhile up the street, grocery sh...\n",
       "1         .@walmart is in trial phase of online ordereri...\n",
       "2         thank you @harristeeter for providing a curbsi...\n",
       "3         i can't get to the grocery store weekly to buy...\n",
       "4         loving @peapod delivers  i was in &amp; out of...\n",
       "                                ...                        \n",
       "368408    instead of making a purchase on cybermonday, g...\n",
       "368409    fuck, a van broke down so now coles can’t deli...\n",
       "368410    i just placed an orderer with amazon fresh to ...\n",
       "368411    @rachelbitecofer 😂😂😂😂😂😂😂 you all are funny. ca...\n",
       "368412    i need to go to the grocery store but i just k...\n",
       "Name: new_tweet, Length: 361643, dtype: object"
      ]
     },
     "execution_count": 27,
     "metadata": {},
     "output_type": "execute_result"
    }
   ],
   "source": [
    "data['new_tweet']"
   ]
  },
  {
   "cell_type": "code",
   "execution_count": 28,
   "id": "20eba7b2",
   "metadata": {},
   "outputs": [],
   "source": [
    "#Splitting data\n",
    "data_train = data[~data['Category'].isna()]\n",
    "data_pred = data[data['Category'].isna()]"
   ]
  },
  {
   "cell_type": "code",
   "execution_count": 29,
   "id": "8b77c8ed",
   "metadata": {},
   "outputs": [],
   "source": [
    "X_train, X_test, y_train, y_test = train_test_split(data_train['tweet'], data_train['Category'],\n",
    "                                                    stratify =data_train['Category'] , random_state=42)"
   ]
  },
  {
   "cell_type": "code",
   "execution_count": 30,
   "id": "f8b239fb",
   "metadata": {},
   "outputs": [
    {
     "name": "stdout",
     "output_type": "stream",
     "text": [
      "12203 4068\n",
      "1.0    6178\n",
      "0.0    6025\n",
      "Name: Category, dtype: int64\n",
      "1.0    2059\n",
      "0.0    2009\n",
      "Name: Category, dtype: int64\n"
     ]
    }
   ],
   "source": [
    "print(len(X_train), len(X_test))\n",
    "print(y_train.value_counts())\n",
    "print(y_test.value_counts())"
   ]
  },
  {
   "cell_type": "code",
   "execution_count": 31,
   "id": "e44214fe",
   "metadata": {},
   "outputs": [],
   "source": [
    "#Vectorization\n",
    "tfidf = TfidfVectorizer(sublinear_tf=True,ngram_range=(1,3))\n",
    "fitted_vectorizer = tfidf.fit(X_train)\n",
    "x_vectors = fitted_vectorizer.transform(X_train)"
   ]
  },
  {
   "cell_type": "code",
   "execution_count": 32,
   "id": "6f8bff2d",
   "metadata": {},
   "outputs": [],
   "source": [
    "test_features = fitted_vectorizer.transform(X_test)"
   ]
  },
  {
   "cell_type": "code",
   "execution_count": 33,
   "id": "80df61de",
   "metadata": {},
   "outputs": [
    {
     "data": {
      "text/plain": [
       "(12203, 213650)"
      ]
     },
     "execution_count": 33,
     "metadata": {},
     "output_type": "execute_result"
    }
   ],
   "source": [
    "x_vectors.shape"
   ]
  },
  {
   "cell_type": "code",
   "execution_count": 34,
   "id": "2e7fe5b8",
   "metadata": {},
   "outputs": [
    {
     "data": {
      "text/plain": [
       "<12203x213650 sparse matrix of type '<class 'numpy.float64'>'\n",
       "\twith 549373 stored elements in Compressed Sparse Row format>"
      ]
     },
     "execution_count": 34,
     "metadata": {},
     "output_type": "execute_result"
    }
   ],
   "source": [
    "x_vectors"
   ]
  },
  {
   "cell_type": "markdown",
   "id": "a942f08e",
   "metadata": {},
   "source": [
    "## Linear SVC"
   ]
  },
  {
   "cell_type": "code",
   "execution_count": 35,
   "id": "77fb88c0",
   "metadata": {},
   "outputs": [],
   "source": [
    "model_svc = LinearSVC().fit(x_vectors, y_train)\n",
    "test_features = fitted_vectorizer.transform(X_test)\n",
    "test_pred = model_svc.predict(test_features)"
   ]
  },
  {
   "cell_type": "code",
   "execution_count": 36,
   "id": "8a018069",
   "metadata": {},
   "outputs": [
    {
     "data": {
      "text/plain": [
       "0.9429695181907571"
      ]
     },
     "execution_count": 36,
     "metadata": {},
     "output_type": "execute_result"
    }
   ],
   "source": [
    "accuracy_score(y_test,test_pred)"
   ]
  },
  {
   "cell_type": "code",
   "execution_count": 37,
   "id": "2058731a",
   "metadata": {},
   "outputs": [
    {
     "name": "stdout",
     "output_type": "stream",
     "text": [
      "\t\t\t\tCLASSIFICATIION METRICS\n",
      "\n",
      "              precision    recall  f1-score   support\n",
      "\n",
      "         0.0       0.95      0.94      0.94      2009\n",
      "         1.0       0.94      0.95      0.94      2059\n",
      "\n",
      "    accuracy                           0.94      4068\n",
      "   macro avg       0.94      0.94      0.94      4068\n",
      "weighted avg       0.94      0.94      0.94      4068\n",
      "\n"
     ]
    }
   ],
   "source": [
    "# Classification report\n",
    "print('\\t\\t\\t\\tCLASSIFICATIION METRICS\\n')\n",
    "print(classification_report(y_test,test_pred))"
   ]
  },
  {
   "cell_type": "markdown",
   "id": "6d47ac79",
   "metadata": {},
   "source": [
    "## Logistic Regression"
   ]
  },
  {
   "cell_type": "code",
   "execution_count": 38,
   "id": "19fb4bb8",
   "metadata": {},
   "outputs": [],
   "source": [
    "from sklearn.linear_model import LogisticRegression\n",
    "model_log = LogisticRegression()\n",
    "\n",
    "# model generation\n",
    "model_log.fit(x_vectors, y_train)\n",
    "test_pred = model_log.predict(test_features)"
   ]
  },
  {
   "cell_type": "code",
   "execution_count": 39,
   "id": "66febc13",
   "metadata": {},
   "outputs": [
    {
     "data": {
      "text/plain": [
       "0.9333824975417896"
      ]
     },
     "execution_count": 39,
     "metadata": {},
     "output_type": "execute_result"
    }
   ],
   "source": [
    "accuracy_score(y_test,test_pred)"
   ]
  },
  {
   "cell_type": "code",
   "execution_count": 40,
   "id": "15a8798d",
   "metadata": {},
   "outputs": [
    {
     "name": "stdout",
     "output_type": "stream",
     "text": [
      "\t\t\t\tCLASSIFICATIION METRICS\n",
      "\n",
      "              precision    recall  f1-score   support\n",
      "\n",
      "         0.0       0.94      0.93      0.93      2009\n",
      "         1.0       0.93      0.94      0.93      2059\n",
      "\n",
      "    accuracy                           0.93      4068\n",
      "   macro avg       0.93      0.93      0.93      4068\n",
      "weighted avg       0.93      0.93      0.93      4068\n",
      "\n"
     ]
    }
   ],
   "source": [
    "# Classification report\n",
    "print('\\t\\t\\t\\tCLASSIFICATIION METRICS\\n')\n",
    "print(classification_report(y_test,test_pred))"
   ]
  },
  {
   "cell_type": "markdown",
   "id": "f6e4a56c",
   "metadata": {},
   "source": [
    "## XGBoost"
   ]
  },
  {
   "cell_type": "code",
   "execution_count": 41,
   "id": "5ca6e09e",
   "metadata": {},
   "outputs": [],
   "source": [
    "from xgboost import XGBClassifier"
   ]
  },
  {
   "cell_type": "code",
   "execution_count": 42,
   "id": "f0817b42",
   "metadata": {},
   "outputs": [],
   "source": [
    "model_xgb = XGBClassifier()\n",
    "model_xgb.fit(x_vectors, y_train)\n",
    "test_pred = model_xgb.predict(test_features)"
   ]
  },
  {
   "cell_type": "code",
   "execution_count": 43,
   "id": "fa3d383c",
   "metadata": {},
   "outputs": [
    {
     "data": {
      "text/plain": [
       "0.9223205506391348"
      ]
     },
     "execution_count": 43,
     "metadata": {},
     "output_type": "execute_result"
    }
   ],
   "source": [
    "accuracy_score(y_test,test_pred)"
   ]
  },
  {
   "cell_type": "code",
   "execution_count": 44,
   "id": "6bf2bb22",
   "metadata": {},
   "outputs": [
    {
     "name": "stdout",
     "output_type": "stream",
     "text": [
      "\t\t\t\tCLASSIFICATIION METRICS\n",
      "\n",
      "              precision    recall  f1-score   support\n",
      "\n",
      "         0.0       0.93      0.91      0.92      2009\n",
      "         1.0       0.91      0.93      0.92      2059\n",
      "\n",
      "    accuracy                           0.92      4068\n",
      "   macro avg       0.92      0.92      0.92      4068\n",
      "weighted avg       0.92      0.92      0.92      4068\n",
      "\n"
     ]
    }
   ],
   "source": [
    "# Classification report\n",
    "print('\\t\\t\\t\\tCLASSIFICATIION METRICS\\n')\n",
    "print(classification_report(y_test,test_pred))"
   ]
  },
  {
   "cell_type": "markdown",
   "id": "c99987f3",
   "metadata": {},
   "source": [
    "## SVM"
   ]
  },
  {
   "cell_type": "code",
   "execution_count": 45,
   "id": "6bef583a",
   "metadata": {},
   "outputs": [
    {
     "data": {
      "text/plain": [
       "(12203, 213650)"
      ]
     },
     "execution_count": 45,
     "metadata": {},
     "output_type": "execute_result"
    }
   ],
   "source": [
    "x_vectors.shape"
   ]
  },
  {
   "cell_type": "code",
   "execution_count": 46,
   "id": "184fbc71",
   "metadata": {},
   "outputs": [],
   "source": [
    "from sklearn.svm import SVC\n",
    "model_svm = SVC()\n",
    "model_svm.fit(x_vectors, y_train)\n",
    "test_pred = model_svm.predict(test_features)"
   ]
  },
  {
   "cell_type": "code",
   "execution_count": 47,
   "id": "9dd89f70",
   "metadata": {},
   "outputs": [
    {
     "data": {
      "text/plain": [
       "0.93952802359882"
      ]
     },
     "execution_count": 47,
     "metadata": {},
     "output_type": "execute_result"
    }
   ],
   "source": [
    "accuracy_score(y_test,test_pred)"
   ]
  },
  {
   "cell_type": "code",
   "execution_count": 48,
   "id": "4627f312",
   "metadata": {},
   "outputs": [
    {
     "name": "stdout",
     "output_type": "stream",
     "text": [
      "\t\t\t\tCLASSIFICATIION METRICS\n",
      "\n",
      "              precision    recall  f1-score   support\n",
      "\n",
      "         0.0       0.94      0.93      0.94      2009\n",
      "         1.0       0.93      0.95      0.94      2059\n",
      "\n",
      "    accuracy                           0.94      4068\n",
      "   macro avg       0.94      0.94      0.94      4068\n",
      "weighted avg       0.94      0.94      0.94      4068\n",
      "\n"
     ]
    }
   ],
   "source": [
    "# Classification report\n",
    "print('\\t\\t\\t\\tCLASSIFICATIION METRICS\\n')\n",
    "print(classification_report(y_test,test_pred))"
   ]
  },
  {
   "cell_type": "markdown",
   "id": "5652d9c2",
   "metadata": {},
   "source": [
    "## MLP Classifier"
   ]
  },
  {
   "cell_type": "code",
   "execution_count": 49,
   "id": "9a1347f3",
   "metadata": {},
   "outputs": [],
   "source": [
    "from sklearn.neural_network import MLPClassifier\n",
    "# sklearn.metrics import plot_confusion_matrix"
   ]
  },
  {
   "cell_type": "code",
   "execution_count": 50,
   "id": "1dc0710f",
   "metadata": {},
   "outputs": [
    {
     "data": {
      "text/plain": [
       "(12203, 213650)"
      ]
     },
     "execution_count": 50,
     "metadata": {},
     "output_type": "execute_result"
    }
   ],
   "source": [
    "x_vectors.shape"
   ]
  },
  {
   "cell_type": "code",
   "execution_count": 51,
   "id": "820df226",
   "metadata": {
    "scrolled": true
   },
   "outputs": [
    {
     "data": {
      "text/html": [
       "<style>#sk-container-id-1 {color: black;background-color: white;}#sk-container-id-1 pre{padding: 0;}#sk-container-id-1 div.sk-toggleable {background-color: white;}#sk-container-id-1 label.sk-toggleable__label {cursor: pointer;display: block;width: 100%;margin-bottom: 0;padding: 0.3em;box-sizing: border-box;text-align: center;}#sk-container-id-1 label.sk-toggleable__label-arrow:before {content: \"▸\";float: left;margin-right: 0.25em;color: #696969;}#sk-container-id-1 label.sk-toggleable__label-arrow:hover:before {color: black;}#sk-container-id-1 div.sk-estimator:hover label.sk-toggleable__label-arrow:before {color: black;}#sk-container-id-1 div.sk-toggleable__content {max-height: 0;max-width: 0;overflow: hidden;text-align: left;background-color: #f0f8ff;}#sk-container-id-1 div.sk-toggleable__content pre {margin: 0.2em;color: black;border-radius: 0.25em;background-color: #f0f8ff;}#sk-container-id-1 input.sk-toggleable__control:checked~div.sk-toggleable__content {max-height: 200px;max-width: 100%;overflow: auto;}#sk-container-id-1 input.sk-toggleable__control:checked~label.sk-toggleable__label-arrow:before {content: \"▾\";}#sk-container-id-1 div.sk-estimator input.sk-toggleable__control:checked~label.sk-toggleable__label {background-color: #d4ebff;}#sk-container-id-1 div.sk-label input.sk-toggleable__control:checked~label.sk-toggleable__label {background-color: #d4ebff;}#sk-container-id-1 input.sk-hidden--visually {border: 0;clip: rect(1px 1px 1px 1px);clip: rect(1px, 1px, 1px, 1px);height: 1px;margin: -1px;overflow: hidden;padding: 0;position: absolute;width: 1px;}#sk-container-id-1 div.sk-estimator {font-family: monospace;background-color: #f0f8ff;border: 1px dotted black;border-radius: 0.25em;box-sizing: border-box;margin-bottom: 0.5em;}#sk-container-id-1 div.sk-estimator:hover {background-color: #d4ebff;}#sk-container-id-1 div.sk-parallel-item::after {content: \"\";width: 100%;border-bottom: 1px solid gray;flex-grow: 1;}#sk-container-id-1 div.sk-label:hover label.sk-toggleable__label {background-color: #d4ebff;}#sk-container-id-1 div.sk-serial::before {content: \"\";position: absolute;border-left: 1px solid gray;box-sizing: border-box;top: 0;bottom: 0;left: 50%;z-index: 0;}#sk-container-id-1 div.sk-serial {display: flex;flex-direction: column;align-items: center;background-color: white;padding-right: 0.2em;padding-left: 0.2em;position: relative;}#sk-container-id-1 div.sk-item {position: relative;z-index: 1;}#sk-container-id-1 div.sk-parallel {display: flex;align-items: stretch;justify-content: center;background-color: white;position: relative;}#sk-container-id-1 div.sk-item::before, #sk-container-id-1 div.sk-parallel-item::before {content: \"\";position: absolute;border-left: 1px solid gray;box-sizing: border-box;top: 0;bottom: 0;left: 50%;z-index: -1;}#sk-container-id-1 div.sk-parallel-item {display: flex;flex-direction: column;z-index: 1;position: relative;background-color: white;}#sk-container-id-1 div.sk-parallel-item:first-child::after {align-self: flex-end;width: 50%;}#sk-container-id-1 div.sk-parallel-item:last-child::after {align-self: flex-start;width: 50%;}#sk-container-id-1 div.sk-parallel-item:only-child::after {width: 0;}#sk-container-id-1 div.sk-dashed-wrapped {border: 1px dashed gray;margin: 0 0.4em 0.5em 0.4em;box-sizing: border-box;padding-bottom: 0.4em;background-color: white;}#sk-container-id-1 div.sk-label label {font-family: monospace;font-weight: bold;display: inline-block;line-height: 1.2em;}#sk-container-id-1 div.sk-label-container {text-align: center;}#sk-container-id-1 div.sk-container {/* jupyter's `normalize.less` sets `[hidden] { display: none; }` but bootstrap.min.css set `[hidden] { display: none !important; }` so we also need the `!important` here to be able to override the default hidden behavior on the sphinx rendered scikit-learn.org. See: https://github.com/scikit-learn/scikit-learn/issues/21755 */display: inline-block !important;position: relative;}#sk-container-id-1 div.sk-text-repr-fallback {display: none;}</style><div id=\"sk-container-id-1\" class=\"sk-top-container\"><div class=\"sk-text-repr-fallback\"><pre>MLPClassifier(early_stopping=True)</pre><b>In a Jupyter environment, please rerun this cell to show the HTML representation or trust the notebook. <br />On GitHub, the HTML representation is unable to render, please try loading this page with nbviewer.org.</b></div><div class=\"sk-container\" hidden><div class=\"sk-item\"><div class=\"sk-estimator sk-toggleable\"><input class=\"sk-toggleable__control sk-hidden--visually\" id=\"sk-estimator-id-1\" type=\"checkbox\" checked><label for=\"sk-estimator-id-1\" class=\"sk-toggleable__label sk-toggleable__label-arrow\">MLPClassifier</label><div class=\"sk-toggleable__content\"><pre>MLPClassifier(early_stopping=True)</pre></div></div></div></div></div>"
      ],
      "text/plain": [
       "MLPClassifier(early_stopping=True)"
      ]
     },
     "execution_count": 51,
     "metadata": {},
     "output_type": "execute_result"
    }
   ],
   "source": [
    "mlp = MLPClassifier(early_stopping=True)\n",
    "mlp.fit(x_vectors, y_train)"
   ]
  },
  {
   "cell_type": "code",
   "execution_count": 52,
   "id": "40db2900",
   "metadata": {},
   "outputs": [],
   "source": [
    "test_pred = mlp.predict(test_features)"
   ]
  },
  {
   "cell_type": "code",
   "execution_count": 53,
   "id": "2ec6ebc7",
   "metadata": {},
   "outputs": [
    {
     "name": "stdout",
     "output_type": "stream",
     "text": [
      "0.9378072763028515\n",
      "\t\t\t\tCLASSIFICATIION METRICS\n",
      "\n",
      "              precision    recall  f1-score   support\n",
      "\n",
      "         0.0       0.96      0.91      0.94      2009\n",
      "         1.0       0.92      0.96      0.94      2059\n",
      "\n",
      "    accuracy                           0.94      4068\n",
      "   macro avg       0.94      0.94      0.94      4068\n",
      "weighted avg       0.94      0.94      0.94      4068\n",
      "\n"
     ]
    }
   ],
   "source": [
    "print(accuracy_score(y_test,test_pred))\n",
    "# Classification report\n",
    "print('\\t\\t\\t\\tCLASSIFICATIION METRICS\\n')\n",
    "print(classification_report(y_test,test_pred))"
   ]
  },
  {
   "cell_type": "code",
   "execution_count": 55,
   "id": "c341765a",
   "metadata": {},
   "outputs": [],
   "source": [
    "x_vectors_test = fitted_vectorizer.transform(X_test)"
   ]
  },
  {
   "cell_type": "markdown",
   "id": "b0b4d539",
   "metadata": {},
   "source": [
    "# LSTM"
   ]
  },
  {
   "cell_type": "code",
   "execution_count": 82,
   "id": "db4b99eb",
   "metadata": {},
   "outputs": [
    {
     "data": {
      "text/html": [
       "<div>\n",
       "<style scoped>\n",
       "    .dataframe tbody tr th:only-of-type {\n",
       "        vertical-align: middle;\n",
       "    }\n",
       "\n",
       "    .dataframe tbody tr th {\n",
       "        vertical-align: top;\n",
       "    }\n",
       "\n",
       "    .dataframe thead th {\n",
       "        text-align: right;\n",
       "    }\n",
       "</style>\n",
       "<table border=\"1\" class=\"dataframe\">\n",
       "  <thead>\n",
       "    <tr style=\"text-align: right;\">\n",
       "      <th></th>\n",
       "      <th>0.0</th>\n",
       "      <th>1.0</th>\n",
       "    </tr>\n",
       "  </thead>\n",
       "  <tbody>\n",
       "    <tr>\n",
       "      <th>4178</th>\n",
       "      <td>0</td>\n",
       "      <td>1</td>\n",
       "    </tr>\n",
       "    <tr>\n",
       "      <th>23392</th>\n",
       "      <td>0</td>\n",
       "      <td>1</td>\n",
       "    </tr>\n",
       "    <tr>\n",
       "      <th>1454</th>\n",
       "      <td>1</td>\n",
       "      <td>0</td>\n",
       "    </tr>\n",
       "    <tr>\n",
       "      <th>39366</th>\n",
       "      <td>1</td>\n",
       "      <td>0</td>\n",
       "    </tr>\n",
       "    <tr>\n",
       "      <th>180156</th>\n",
       "      <td>0</td>\n",
       "      <td>1</td>\n",
       "    </tr>\n",
       "  </tbody>\n",
       "</table>\n",
       "</div>"
      ],
      "text/plain": [
       "        0.0  1.0\n",
       "4178      0    1\n",
       "23392     0    1\n",
       "1454      1    0\n",
       "39366     1    0\n",
       "180156    0    1"
      ]
     },
     "execution_count": 82,
     "metadata": {},
     "output_type": "execute_result"
    }
   ],
   "source": [
    "#OneHot Encoding the target column\n",
    "y_train_encode = pd.get_dummies(y_train)\n",
    "y_test_encode = pd.get_dummies(y_test)\n",
    "y_test_encode.head()"
   ]
  },
  {
   "cell_type": "code",
   "execution_count": 86,
   "id": "18d54252",
   "metadata": {},
   "outputs": [],
   "source": [
    "from keras.preprocessing.text import Tokenizer\n",
    "from keras_preprocessing.sequence import pad_sequences\n",
    "from tqdm import tqdm"
   ]
  },
  {
   "cell_type": "code",
   "execution_count": 87,
   "id": "8d1b7cd8",
   "metadata": {},
   "outputs": [
    {
     "data": {
      "text/plain": [
       "Index(['level_0', 'index', 'author id', 'created_at', 'geo', 'id', 'lang',\n",
       "       'like_count', 'quote_count', 'reply_count', 'retweet_count', 'source',\n",
       "       'tweet', 'Category', 'channel', 'new_tweet', 'Year', 'Month', 'Day'],\n",
       "      dtype='object')"
      ]
     },
     "execution_count": 87,
     "metadata": {},
     "output_type": "execute_result"
    }
   ],
   "source": [
    "data.columns"
   ]
  },
  {
   "cell_type": "code",
   "execution_count": 88,
   "id": "31624829",
   "metadata": {},
   "outputs": [],
   "source": [
    "data = data[['index','tweet', 'Category','new_tweet']]"
   ]
  },
  {
   "cell_type": "code",
   "execution_count": 89,
   "id": "ac6ccf66",
   "metadata": {},
   "outputs": [],
   "source": [
    "data = data.reset_index()"
   ]
  },
  {
   "cell_type": "code",
   "execution_count": 90,
   "id": "4cbfe71b",
   "metadata": {},
   "outputs": [
    {
     "name": "stderr",
     "output_type": "stream",
     "text": [
      "100%|███████████████████████████████| 216487/216487 [00:00<00:00, 364722.16it/s]"
     ]
    },
    {
     "name": "stdout",
     "output_type": "stream",
     "text": [
      "Maximum length of the tweet is: 498\n"
     ]
    },
    {
     "name": "stderr",
     "output_type": "stream",
     "text": [
      "\n"
     ]
    }
   ],
   "source": [
    "max_length = 0\n",
    "for i in tqdm(range(len(data))):\n",
    "    length = len(str(data['tweet'][i]))\n",
    "    if length > max_length:\n",
    "        max_length = length\n",
    "        \n",
    "print(f'Maximum length of the tweet is: {max_length}')"
   ]
  },
  {
   "cell_type": "code",
   "execution_count": 91,
   "id": "aca51321",
   "metadata": {},
   "outputs": [],
   "source": [
    "#The maximum number of words to be used(most frequent)\n",
    "MAX_NB_WORDS = 10000\n",
    "#Max number of words in each Tweet\n",
    "MAX_SEQUENCE_LENGTH = 100"
   ]
  },
  {
   "cell_type": "code",
   "execution_count": 92,
   "id": "b885a443",
   "metadata": {},
   "outputs": [],
   "source": [
    "# Initialize and fit the tokenizer\n",
    "tokenizer = Tokenizer(num_words=MAX_NB_WORDS, split=' ')\n",
    "tokenizer.fit_on_texts(X_train)"
   ]
  },
  {
   "cell_type": "code",
   "execution_count": 93,
   "id": "7dcee0b9",
   "metadata": {},
   "outputs": [
    {
     "data": {
      "text/plain": [
       "[3,\n",
       " 523,\n",
       " 1,\n",
       " 2,\n",
       " 87,\n",
       " 266,\n",
       " 306,\n",
       " 6,\n",
       " 400,\n",
       " 617,\n",
       " 27,\n",
       " 20,\n",
       " 42,\n",
       " 1624,\n",
       " 3,\n",
       " 281,\n",
       " 1624,\n",
       " 3,\n",
       " 57,\n",
       " 27]"
      ]
     },
     "execution_count": 93,
     "metadata": {},
     "output_type": "execute_result"
    }
   ],
   "source": [
    "#Use that tokenizer to transform the text messages in the training and test sets\n",
    "X_train_seq = tokenizer.texts_to_sequences(X_train)\n",
    "X_test_seq = tokenizer.texts_to_sequences(X_test)\n",
    "\n",
    "X_train_seq[10]"
   ]
  },
  {
   "cell_type": "code",
   "execution_count": 94,
   "id": "f1363be9",
   "metadata": {},
   "outputs": [
    {
     "data": {
      "text/plain": [
       "array([   0,    0,    0,    0,    0,    0,    0,    0,    0,    0,    0,\n",
       "          0,    0,    0,    0,    0,    0,    0,    0,    0,    0,    0,\n",
       "          0,    0,    3,  523,    1,    2,   87,  266,  306,    6,  400,\n",
       "        617,   27,   20,   42, 1624,    3,  281, 1624,    3,   57,   27],\n",
       "      dtype=int32)"
      ]
     },
     "execution_count": 94,
     "metadata": {},
     "output_type": "execute_result"
    }
   ],
   "source": [
    "#Pad the sequences so each sequence is the same length\n",
    "X_train_seq_padded = pad_sequences(X_train_seq,44)\n",
    "X_test_seq_padded = pad_sequences(X_test_seq,44)\n",
    "\n",
    "X_train_seq_padded[10]"
   ]
  },
  {
   "cell_type": "code",
   "execution_count": 95,
   "id": "0503cb59",
   "metadata": {},
   "outputs": [
    {
     "name": "stdout",
     "output_type": "stream",
     "text": [
      "X_train_seq_padded: (12203, 44)\n",
      "X_test_seq_padded: (4068, 44)\n",
      "y_train: (12203, 2)\n",
      "y_test: (4068, 2)\n"
     ]
    }
   ],
   "source": [
    "print('X_train_seq_padded:', X_train_seq_padded.shape)\n",
    "print('X_test_seq_padded:', X_test_seq_padded.shape)\n",
    "\n",
    "print('y_train:', y_train_encode.shape)\n",
    "print('y_test:', y_test_encode.shape)"
   ]
  },
  {
   "cell_type": "code",
   "execution_count": 96,
   "id": "fd923313",
   "metadata": {},
   "outputs": [],
   "source": [
    "from tensorflow.keras.models import Sequential\n",
    "from tensorflow.keras.layers import Dense, LSTM, Dropout, Embedding, SpatialDropout1D\n",
    "from tensorflow.keras.optimizers import Adam\n",
    "from keras.callbacks import EarlyStopping"
   ]
  },
  {
   "cell_type": "code",
   "execution_count": 97,
   "id": "f52df15f",
   "metadata": {},
   "outputs": [
    {
     "name": "stdout",
     "output_type": "stream",
     "text": [
      "Model: \"sequential\"\n",
      "_________________________________________________________________\n",
      " Layer (type)                Output Shape              Param #   \n",
      "=================================================================\n",
      " embedding (Embedding)       (None, 44, 64)            640000    \n",
      "                                                                 \n",
      " lstm (LSTM)                 (None, 44, 128)           98816     \n",
      "                                                                 \n",
      " lstm_1 (LSTM)               (None, 44, 128)           131584    \n",
      "                                                                 \n",
      " lstm_2 (LSTM)               (None, 128)               131584    \n",
      "                                                                 \n",
      " dense (Dense)               (None, 2)                 258       \n",
      "                                                                 \n",
      "=================================================================\n",
      "Total params: 1,002,242\n",
      "Trainable params: 1,002,242\n",
      "Non-trainable params: 0\n",
      "_________________________________________________________________\n"
     ]
    }
   ],
   "source": [
    "model=Sequential()\n",
    "model.add(Embedding(input_dim=MAX_NB_WORDS, output_dim=64, input_length=X_train_seq_padded.shape[1]))\n",
    "#input_dim: Size of the vocabulary.\n",
    "#output_dim: Dimension of the dense embedding.\n",
    "#model.add(SpatialDropout1D(0.4))\n",
    "model.add(LSTM(128, activation='tanh',  return_sequences=True))\n",
    "\n",
    "model.add(LSTM(128, activation='tanh',return_sequences=True))\n",
    "\n",
    "model.add(LSTM(128, activation='tanh'))\n",
    "\n",
    "model.add(Dense(2, activation='sigmoid'))\n",
    "\n",
    "model.summary()"
   ]
  },
  {
   "cell_type": "code",
   "execution_count": 98,
   "id": "787406f2",
   "metadata": {},
   "outputs": [],
   "source": [
    "#Compile the model\n",
    "model.compile(optimizer=Adam(),loss='categorical_crossentropy',metrics=['accuracy'])\n",
    "\n",
    "#Adding an early stopping\n",
    "es = EarlyStopping(monitor='val_accuracy', mode='max', \n",
    "                   patience=4, #Stop the model training if the validation accuracy doesnt increase in 4 consecutive Epochs\n",
    "                   restore_best_weights=True)"
   ]
  },
  {
   "cell_type": "code",
   "execution_count": 99,
   "id": "6408ddf9",
   "metadata": {},
   "outputs": [
    {
     "name": "stdout",
     "output_type": "stream",
     "text": [
      "Epoch 1/6\n"
     ]
    },
    {
     "name": "stderr",
     "output_type": "stream",
     "text": [
      "2022-12-13 11:41:16.697514: W tensorflow/core/platform/profile_utils/cpu_utils.cc:128] Failed to get CPU frequency: 0 Hz\n"
     ]
    },
    {
     "name": "stdout",
     "output_type": "stream",
     "text": [
      "382/382 [==============================] - 32s 81ms/step - loss: 0.2379 - accuracy: 0.9003 - val_loss: 0.1712 - val_accuracy: 0.9410\n",
      "Epoch 2/6\n",
      "382/382 [==============================] - 31s 81ms/step - loss: 0.1342 - accuracy: 0.9547 - val_loss: 0.2083 - val_accuracy: 0.9238\n",
      "Epoch 3/6\n",
      "382/382 [==============================] - 31s 80ms/step - loss: 0.0993 - accuracy: 0.9680 - val_loss: 0.2156 - val_accuracy: 0.9329\n",
      "Epoch 4/6\n",
      "382/382 [==============================] - 31s 80ms/step - loss: 0.0732 - accuracy: 0.9769 - val_loss: 0.2169 - val_accuracy: 0.9309\n",
      "Epoch 5/6\n",
      "382/382 [==============================] - 30s 80ms/step - loss: 0.0541 - accuracy: 0.9835 - val_loss: 0.2359 - val_accuracy: 0.9277\n"
     ]
    }
   ],
   "source": [
    "#Fit the RNN\n",
    "history = model.fit(X_train_seq_padded, y_train_encode, batch_size=32, epochs=6, \n",
    "                    callbacks =[es],validation_data=(X_test_seq_padded, y_test_encode))"
   ]
  },
  {
   "cell_type": "code",
   "execution_count": 100,
   "id": "ae6ad449",
   "metadata": {},
   "outputs": [
    {
     "data": {
      "image/png": "[encoded data removed]",
      "text/plain": [
       "<Figure size 640x480 with 1 Axes>"
      ]
     },
     "metadata": {},
     "output_type": "display_data"
    }
   ],
   "source": [
    "#Ploting the accuracy metric across the epochs\n",
    "import matplotlib.pyplot as plt\n",
    "%matplotlib inline\n",
    "\n",
    "for i in ['accuracy']:\n",
    "    acc = history.history[i]\n",
    "    val_acc = history.history['val_{}'.format(i)]\n",
    "    epochs = range(1, len(acc) + 1)\n",
    "\n",
    "    plt.figure()\n",
    "    plt.plot(epochs, acc, label='Training Accuracy')\n",
    "    plt.plot(epochs, val_acc, label='Validation Accuracy')\n",
    "    plt.title('Results for {}'.format(i))\n",
    "    plt.legend()\n",
    "    plt.show()"
   ]
  },
  {
   "cell_type": "code",
   "execution_count": 101,
   "id": "c5b38650",
   "metadata": {},
   "outputs": [
    {
     "name": "stdout",
     "output_type": "stream",
     "text": [
      "Test loss: 0.17122280597686768\n",
      "Test accuracy: 0.9410029649734497\n"
     ]
    }
   ],
   "source": [
    "score = model.evaluate(X_test_seq_padded,y_test_encode, verbose=0)\n",
    "print('Test loss:', score[0]) \n",
    "print('Test accuracy:', score[1]) "
   ]
  },
  {
   "cell_type": "code",
   "execution_count": 102,
   "id": "2b53edcd",
   "metadata": {},
   "outputs": [
    {
     "data": {
      "text/plain": [
       "array([0., 1.])"
      ]
     },
     "execution_count": 102,
     "metadata": {},
     "output_type": "execute_result"
    }
   ],
   "source": [
    "class_names = np.unique(y_test)\n",
    "class_names"
   ]
  },
  {
   "cell_type": "code",
   "execution_count": 103,
   "id": "514eb66a",
   "metadata": {},
   "outputs": [
    {
     "data": {
      "text/plain": [
       "4068"
      ]
     },
     "execution_count": 103,
     "metadata": {},
     "output_type": "execute_result"
    }
   ],
   "source": [
    "len(X_test_seq_padded)"
   ]
  },
  {
   "cell_type": "code",
   "execution_count": 104,
   "id": "2add274f",
   "metadata": {},
   "outputs": [
    {
     "name": "stdout",
     "output_type": "stream",
     "text": [
      "128/128 [==============================] - 3s 21ms/step\n"
     ]
    }
   ],
   "source": [
    "y_pred = model.predict(X_test_seq_padded)"
   ]
  },
  {
   "cell_type": "code",
   "execution_count": 105,
   "id": "d2f577f4",
   "metadata": {},
   "outputs": [],
   "source": [
    "y_pred_new = [0 if i[0] > i[1] else 1 for i in y_pred]"
   ]
  },
  {
   "cell_type": "code",
   "execution_count": 106,
   "id": "dee9477f",
   "metadata": {},
   "outputs": [],
   "source": [
    "y_test = [1 if i == 'Consumer' else 0 for i in y_test]"
   ]
  },
  {
   "cell_type": "code",
   "execution_count": 107,
   "id": "46b2ed40",
   "metadata": {},
   "outputs": [
    {
     "data": {
      "text/plain": [
       "4068"
      ]
     },
     "execution_count": 107,
     "metadata": {},
     "output_type": "execute_result"
    }
   ],
   "source": [
    "len(y_test)"
   ]
  },
  {
   "cell_type": "code",
   "execution_count": 108,
   "id": "b5801b96",
   "metadata": {},
   "outputs": [
    {
     "data": {
      "text/plain": [
       "4068"
      ]
     },
     "execution_count": 108,
     "metadata": {},
     "output_type": "execute_result"
    }
   ],
   "source": [
    "len(y_pred_new)"
   ]
  },
  {
   "cell_type": "code",
   "execution_count": 109,
   "id": "58072277",
   "metadata": {},
   "outputs": [
    {
     "name": "stdout",
     "output_type": "stream",
     "text": [
      "0.4909046214355949\n",
      "\t\t\t\tCLASSIFICATIION METRICS\n",
      "\n",
      "              precision    recall  f1-score   support\n",
      "\n",
      "           0       1.00      0.49      0.66      4068\n",
      "           1       0.00      0.00      0.00         0\n",
      "\n",
      "    accuracy                           0.49      4068\n",
      "   macro avg       0.50      0.25      0.33      4068\n",
      "weighted avg       1.00      0.49      0.66      4068\n",
      "\n"
     ]
    },
    {
     "name": "stderr",
     "output_type": "stream",
     "text": [
      "/opt/homebrew/Caskroom/miniforge/base/envs/python_env/lib/python3.9/site-packages/sklearn/metrics/_classification.py:1344: UndefinedMetricWarning: Recall and F-score are ill-defined and being set to 0.0 in labels with no true samples. Use `zero_division` parameter to control this behavior.\n",
      "  _warn_prf(average, modifier, msg_start, len(result))\n",
      "/opt/homebrew/Caskroom/miniforge/base/envs/python_env/lib/python3.9/site-packages/sklearn/metrics/_classification.py:1344: UndefinedMetricWarning: Recall and F-score are ill-defined and being set to 0.0 in labels with no true samples. Use `zero_division` parameter to control this behavior.\n",
      "  _warn_prf(average, modifier, msg_start, len(result))\n",
      "/opt/homebrew/Caskroom/miniforge/base/envs/python_env/lib/python3.9/site-packages/sklearn/metrics/_classification.py:1344: UndefinedMetricWarning: Recall and F-score are ill-defined and being set to 0.0 in labels with no true samples. Use `zero_division` parameter to control this behavior.\n",
      "  _warn_prf(average, modifier, msg_start, len(result))\n"
     ]
    }
   ],
   "source": [
    "print(accuracy_score(y_test,y_pred_new))\n",
    "# Classification report\n",
    "print('\\t\\t\\t\\tCLASSIFICATIION METRICS\\n')\n",
    "print(classification_report(y_test,y_pred_new))"
   ]
  },
  {
   "cell_type": "markdown",
   "id": "c443988a",
   "metadata": {},
   "source": [
    "### Prediction"
   ]
  },
  {
   "cell_type": "code",
   "execution_count": 54,
   "id": "e2052a52",
   "metadata": {},
   "outputs": [
    {
     "name": "stdout",
     "output_type": "stream",
     "text": [
      "345372\n",
      "345372\n"
     ]
    }
   ],
   "source": [
    "print(len(data_pred))\n",
    "data_pred = data_pred.dropna(subset='tweet')\n",
    "print(len(data_pred))"
   ]
  },
  {
   "cell_type": "code",
   "execution_count": 55,
   "id": "4897ccde",
   "metadata": {},
   "outputs": [],
   "source": [
    "#Vectorization\n",
    "x_vectors = fitted_vectorizer.transform(data_pred['tweet'])"
   ]
  },
  {
   "cell_type": "code",
   "execution_count": 56,
   "id": "d61d14b4",
   "metadata": {},
   "outputs": [
    {
     "data": {
      "text/plain": [
       "(345372, 213650)"
      ]
     },
     "execution_count": 56,
     "metadata": {},
     "output_type": "execute_result"
    }
   ],
   "source": [
    "x_vectors.shape"
   ]
  },
  {
   "cell_type": "code",
   "execution_count": 60,
   "id": "a1d2c77f",
   "metadata": {},
   "outputs": [],
   "source": [
    "pred = model_svm.predict(x_vectors)"
   ]
  },
  {
   "cell_type": "code",
   "execution_count": 61,
   "id": "3adbacf4",
   "metadata": {},
   "outputs": [],
   "source": [
    "data_pred['prediction'] = pred"
   ]
  },
  {
   "cell_type": "code",
   "execution_count": 62,
   "id": "19cdbf14",
   "metadata": {},
   "outputs": [
    {
     "data": {
      "text/plain": [
       "191601"
      ]
     },
     "execution_count": 62,
     "metadata": {},
     "output_type": "execute_result"
    }
   ],
   "source": [
    "len(data_pred[data_pred['prediction'] == 1])"
   ]
  },
  {
   "cell_type": "code",
   "execution_count": 63,
   "id": "34169e65",
   "metadata": {},
   "outputs": [],
   "source": [
    "data_pred_consumer = data_pred[data_pred['prediction'] == 1]\n",
    "data_train_consumer = data_train[data_train['Category'] == 1]"
   ]
  },
  {
   "cell_type": "code",
   "execution_count": 64,
   "id": "cea3ee26",
   "metadata": {},
   "outputs": [],
   "source": [
    "data = pd.concat([data_pred_consumer,data_train_consumer])"
   ]
  },
  {
   "cell_type": "code",
   "execution_count": 65,
   "id": "14703c54",
   "metadata": {},
   "outputs": [
    {
     "name": "stdout",
     "output_type": "stream",
     "text": [
      "199838\n",
      "197824\n"
     ]
    }
   ],
   "source": [
    "print(len(data))\n",
    "data = data.drop_duplicates(subset='tweet')\n",
    "print(len(data))"
   ]
  },
  {
   "cell_type": "code",
   "execution_count": 66,
   "id": "7f917c0a",
   "metadata": {},
   "outputs": [],
   "source": [
    "data.to_csv('Consumer_data.csv', index = False)"
   ]
  },
  {
   "cell_type": "code",
   "execution_count": null,
   "id": "05044858",
   "metadata": {},
   "outputs": [],
   "source": []
  }
 ],
 "metadata": {
  "kernelspec": {
   "display_name": "Python 3 (ipykernel)",
   "language": "python",
   "name": "python3"
  },
  "language_info": {
   "codemirror_mode": {
    "name": "ipython",
    "version": 3
   },
   "file_extension": ".py",
   "mimetype": "text/x-python",
   "name": "python",
   "nbconvert_exporter": "python",
   "pygments_lexer": "ipython3",
   "version": "3.9.15"
  }
 },
 "nbformat": 4,
 "nbformat_minor": 5
}
